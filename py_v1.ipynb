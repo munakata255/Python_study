{
  "nbformat": 4,
  "nbformat_minor": 0,
  "metadata": {
    "colab": {
      "provenance": [],
      "authorship_tag": "ABX9TyNaXoOEznX6mdBT9jAW3JPv",
      "include_colab_link": true
    },
    "kernelspec": {
      "name": "python3",
      "display_name": "Python 3"
    },
    "language_info": {
      "name": "python"
    }
  },
  "cells": [
    {
      "cell_type": "markdown",
      "metadata": {
        "id": "view-in-github",
        "colab_type": "text"
      },
      "source": [
        "<a href=\"https://colab.research.google.com/github/munakata255/Python_study/blob/main/py_v1.ipynb\" target=\"_parent\"><img src=\"https://colab.research.google.com/assets/colab-badge.svg\" alt=\"Open In Colab\"/></a>"
      ]
    },
    {
      "cell_type": "code",
      "execution_count": null,
      "metadata": {
        "colab": {
          "base_uri": "https://localhost:8080/"
        },
        "id": "Doaeb83e5l0X",
        "outputId": "959f1e7c-9aef-4510-cc46-5a76f9e6396d"
      },
      "outputs": [
        {
          "name": "stdout",
          "output_type": "stream",
          "text": [
            "aaaaa\n"
          ]
        }
      ],
      "source": [
        "input_line = input()"
      ]
    },
    {
      "cell_type": "code",
      "source": [
        "\n"
      ],
      "metadata": {
        "colab": {
          "base_uri": "https://localhost:8080/"
        },
        "id": "zdmiBbJs5w7W",
        "outputId": "6dd370ab-6171-409d-f960-ebe6386803c5"
      },
      "execution_count": null,
      "outputs": [
        {
          "output_type": "stream",
          "name": "stdout",
          "text": [
            "aaaaa\n"
          ]
        }
      ]
    },
    {
      "cell_type": "code",
      "source": [
        "x = 10\n",
        "s = str(x)\n",
        "s"
      ],
      "metadata": {
        "colab": {
          "base_uri": "https://localhost:8080/",
          "height": 35
        },
        "id": "ucBlureL9z8E",
        "outputId": "671d9841-3274-476f-d500-fc6ecbc0f84c"
      },
      "execution_count": null,
      "outputs": [
        {
          "output_type": "execute_result",
          "data": {
            "text/plain": [
              "'10'"
            ],
            "application/vnd.google.colaboratory.intrinsic+json": {
              "type": "string"
            }
          },
          "metadata": {},
          "execution_count": 1
        }
      ]
    },
    {
      "cell_type": "code",
      "source": [
        "N = 10\n",
        "for n in range(2, N+1):\n",
        "    for a in range(2, n//2+1):\n",
        "        if n % a != 0:\n",
        "            continue\n",
        "        print(n, '=', a, '*', n//a)\n",
        "        break"
      ],
      "metadata": {
        "colab": {
          "base_uri": "https://localhost:8080/"
        },
        "id": "i7uQw31LKOwI",
        "outputId": "10aed1ba-24a5-421d-eb5f-2fdd01af511b"
      },
      "execution_count": null,
      "outputs": [
        {
          "output_type": "stream",
          "name": "stdout",
          "text": [
            "4 = 2 * 2\n",
            "6 = 2 * 3\n",
            "6 = 3 * 2\n",
            "8 = 2 * 4\n",
            "8 = 4 * 2\n",
            "9 = 3 * 3\n",
            "10 = 2 * 5\n",
            "10 = 5 * 2\n"
          ]
        }
      ]
    },
    {
      "cell_type": "code",
      "source": [
        "aaaaaa"
      ],
      "metadata": {
        "id": "SrLBYNn3_DiA"
      },
      "execution_count": null,
      "outputs": []
    },
    {
      "cell_type": "code",
      "source": [
        "print(\"aaa\\naa\")"
      ],
      "metadata": {
        "colab": {
          "base_uri": "https://localhost:8080/"
        },
        "id": "w8gDAkHbkw2L",
        "outputId": "972773fd-a76d-4840-8ab0-6f1865c6870e"
      },
      "execution_count": null,
      "outputs": [
        {
          "output_type": "stream",
          "name": "stdout",
          "text": [
            "aaa\n",
            "aa\n"
          ]
        }
      ]
    },
    {
      "cell_type": "code",
      "source": [
        "print(8,\"\\n\",1,\"\\n\",3)\n",
        "\n"
      ],
      "metadata": {
        "colab": {
          "base_uri": "https://localhost:8080/"
        },
        "id": "CZuC7Hpnn_Zy",
        "outputId": "5e77e1a8-f095-4e13-a427-520d0f4ac3d2"
      },
      "execution_count": null,
      "outputs": [
        {
          "output_type": "stream",
          "name": "stdout",
          "text": [
            "8 \n",
            " 1 \n",
            " 3\n"
          ]
        }
      ]
    },
    {
      "cell_type": "code",
      "source": [
        "n = int(input())\n",
        "q=0\n",
        "for a in range(n):\n",
        "    c,d=map(str,input().split())\n",
        "    if c==\"G\"and d==\"C\" or c==\"C\" and d==\"P\" or c==\"P\" and d==\"G\":\n",
        "        q=q+1\n",
        "print(q)"
      ],
      "metadata": {
        "colab": {
          "base_uri": "https://localhost:8080/"
        },
        "id": "7aOze3xOypcw",
        "outputId": "9a01b060-61ec-489f-dd41-347f9c11870a"
      },
      "execution_count": null,
      "outputs": [
        {
          "output_type": "stream",
          "name": "stdout",
          "text": [
            "3\n",
            "G G\n",
            "G G\n",
            "G G\n",
            "0\n"
          ]
        }
      ]
    },
    {
      "cell_type": "code",
      "source": [
        "s=list(input())\n",
        "t=list(input())\n",
        "s_len = len(s)\n",
        "t_len = len(t)\n",
        "for i in range(s_len):\n",
        "  for j in range(0,s_len-i-1):\n",
        "    if ord(s[j])>ord(s[j+1]):\n",
        "      s[j],s[j+1]=s[j+1],s[j]\n",
        "for i in range(t_len):\n",
        "  for j in range(0,t_len-i-1):\n",
        "    if ord(t[j])>ord(t[j+1]):\n",
        "      t[j],t[j+1]=t[j+1],t[j]\n",
        "print(s)\n",
        "print(t)\n",
        "\n",
        "if s_len >= t_len:\n",
        "  for i in range(t_len):\n",
        "    if ord(s[i])<ord(t[i]):\n",
        "      print(\"Yes\")\n",
        "      break\n",
        "    if ord(s[t_len-1])==ord(t[t_len-1]):\n",
        "      print(\"No\")\n",
        "      break\n",
        "  print(\"No\")\n",
        "\n",
        "\n",
        "elif s_len < t_len:\n",
        "  for i in range(s_len):\n",
        "    if ord(s[i])<ord(t[i]):\n",
        "      print(\"Yes\")\n",
        "      break\n",
        "    if ord(s[s_len-1])==ord(t[s_len-1]):\n",
        "      print(\"Yes\")\n",
        "      break\n",
        "  print(\"No\")\n",
        "\n",
        "\n",
        "\n",
        "#print(ord(s[0]))\n",
        "#print(ord(t[0]))\n",
        "#print(type(ord(s[0])))\n",
        "#print(s)\n",
        "#print(t)\n",
        "\n",
        "\n"
      ],
      "metadata": {
        "colab": {
          "base_uri": "https://localhost:8080/"
        },
        "id": "RglhsFxRdzH8",
        "outputId": "baefcab6-4c59-4030-fdd2-814884810781"
      },
      "execution_count": 27,
      "outputs": [
        {
          "output_type": "stream",
          "name": "stdout",
          "text": [
            "yx\n",
            "axy\n",
            "['x', 'y']\n",
            "['a', 'x', 'y']\n",
            "No\n"
          ]
        }
      ]
    },
    {
      "cell_type": "markdown",
      "source": [],
      "metadata": {
        "id": "qp8OHodHtKxB"
      }
    },
    {
      "cell_type": "code",
      "source": [
        "n = list(input())\n",
        "a = len(n)\n",
        "for i in range(0,a,2):\n",
        "  for j in range(0,a-i-1):\n",
        "    if ord(n[j])>ord(n[j+2]):\n",
        "      n[j] = n[j+2]\n",
        "for i in range(1,a,2):\n",
        "   for j in range(a-i-1):\n",
        "    if ord(n[j])>ord(n[j+2]):\n",
        "      n[j] = n[j+2]\n",
        "s=''.join(n)\n",
        "print(s)"
      ],
      "metadata": {
        "colab": {
          "base_uri": "https://localhost:8080/"
        },
        "id": "8ME2WrWZmbqv",
        "outputId": "85e34135-659e-4136-ddcd-f79263dbe6ac"
      },
      "execution_count": 1,
      "outputs": [
        {
          "output_type": "stream",
          "name": "stdout",
          "text": [
            "aaaab\n",
            "aaaab\n"
          ]
        }
      ]
    },
    {
      "cell_type": "code",
      "source": [
        "for i in range(0,a,2):\n",
        "  for j in range(0,a-i-1):\n",
        "    if ord(n[j])>ord(n[j+2]):\n",
        "      n[j] = n[j+2]\n",
        "for i in range(1,a,2):\n",
        "   for j in range(a-i-1):\n",
        "    if ord(n[j])>ord(n[j+2]):\n",
        "      n[j] = n[j+2]\n",
        "\n",
        "# Sort elements at even indices\n",
        "for i in range(0, a, 2):\n",
        "    for j in range(i, a, 2):\n",
        "        if ord(n[i]) > ord(n[j]):\n",
        "            n[i]=n[j]\n",
        "\n",
        "# Sort elements at odd indices\n",
        "for i in range(1, a, 2):\n",
        "    for j in range(i, a, 2):\n",
        "        if ord(n[i]) > ord(n[j]):\n",
        "            n[i], n[j] = n[j], n[i]"
      ],
      "metadata": {
        "id": "4RPUaZ0trxb8"
      },
      "execution_count": null,
      "outputs": []
    },
    {
      "cell_type": "code",
      "source": [
        "s=list(input().strip())\n",
        "t=list(input().strip())\n",
        "s_len = len(s)\n",
        "t_len = len(t)\n",
        "for i in range(s_len):\n",
        "  for j in range(0,s_len-i-1):\n",
        "    if ord(s[j])>ord(s[j+1]):\n",
        "      s[j],s[j+1]=s[j+1],s[j]\n",
        "for i in range(t_len):\n",
        "  for j in range(0,t_len-i-1):\n",
        "    if ord(t[j])<ord(t[j+1]):\n",
        "      t[j],t[j+1]=t[j+1],t[j]\n",
        "\n",
        "if s_len >= t_len:\n",
        "  for i in range(t_len):\n",
        "    if ord(s[i])<ord(t[i]):\n",
        "      print(\"Yes\")\n",
        "      break\n",
        "    if ord(s[t_len-1])==ord(t[t_len-1]):\n",
        "      print(\"No\")\n",
        "      break\n",
        "    if i==t_len-1:\n",
        "      print(\"No\")\n",
        "\n",
        "\n",
        "elif s_len < t_len:\n",
        "  for i in range(s_len):\n",
        "    if ord(s[i])<ord(t[i]):\n",
        "      print(\"Yes\")\n",
        "      break\n",
        "    if ord(s[s_len-1])==ord(t[s_len-1]):\n",
        "      print(\"Yes\")\n",
        "      break\n",
        "    if i==s_len-1:\n",
        "      print(\"No\")\n",
        "\n",
        "\n",
        "\n",
        "\n",
        "# print(ord(s[0]))\n",
        "# #print(ord(t[0]))\n",
        "# #print(type(ord(s[0])))\n",
        "# #print(s)\n",
        "# #print(t)\n",
        "\n",
        "\n"
      ],
      "metadata": {
        "colab": {
          "base_uri": "https://localhost:8080/"
        },
        "id": "yT3hioIwwoW_",
        "outputId": "e757505e-afaa-4106-bc79-c78b3bd8cc40"
      },
      "execution_count": 45,
      "outputs": [
        {
          "output_type": "stream",
          "name": "stdout",
          "text": [
            "aa\n",
            "bb\n",
            "Yes\n"
          ]
        }
      ]
    },
    {
      "cell_type": "code",
      "source": [
        "arr = [5, 2, 4, 3, 1]\n",
        "n = len(arr)\n",
        "print(n)"
      ],
      "metadata": {
        "colab": {
          "base_uri": "https://localhost:8080/"
        },
        "id": "itOz4rIJe0zJ",
        "outputId": "7079dfc6-c89c-47aa-ca61-56d73629bdaa"
      },
      "execution_count": 2,
      "outputs": [
        {
          "output_type": "stream",
          "name": "stdout",
          "text": [
            "5\n"
          ]
        }
      ]
    }
  ]
}