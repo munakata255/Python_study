{
  "nbformat": 4,
  "nbformat_minor": 0,
  "metadata": {
    "colab": {
      "provenance": [],
      "authorship_tag": "ABX9TyNZHKjLT9LTIpPUWXFFzH0p",
      "include_colab_link": true
    },
    "kernelspec": {
      "name": "python3",
      "display_name": "Python 3"
    },
    "language_info": {
      "name": "python"
    }
  },
  "cells": [
    {
      "cell_type": "markdown",
      "metadata": {
        "id": "view-in-github",
        "colab_type": "text"
      },
      "source": [
        "<a href=\"https://colab.research.google.com/github/munakata255/Python_study/blob/main/py_v1.ipynb\" target=\"_parent\"><img src=\"https://colab.research.google.com/assets/colab-badge.svg\" alt=\"Open In Colab\"/></a>"
      ]
    },
    {
      "cell_type": "code",
      "execution_count": 1,
      "metadata": {
        "colab": {
          "base_uri": "https://localhost:8080/"
        },
        "id": "Doaeb83e5l0X",
        "outputId": "959f1e7c-9aef-4510-cc46-5a76f9e6396d"
      },
      "outputs": [
        {
          "name": "stdout",
          "output_type": "stream",
          "text": [
            "aaaaa\n"
          ]
        }
      ],
      "source": [
        "input_line = input()"
      ]
    },
    {
      "cell_type": "code",
      "source": [
        "\n"
      ],
      "metadata": {
        "colab": {
          "base_uri": "https://localhost:8080/"
        },
        "id": "zdmiBbJs5w7W",
        "outputId": "6dd370ab-6171-409d-f960-ebe6386803c5"
      },
      "execution_count": 3,
      "outputs": [
        {
          "output_type": "stream",
          "name": "stdout",
          "text": [
            "aaaaa\n"
          ]
        }
      ]
    },
    {
      "cell_type": "code",
      "source": [
        "x = 10\n",
        "s = str(x)\n",
        "s"
      ],
      "metadata": {
        "colab": {
          "base_uri": "https://localhost:8080/",
          "height": 35
        },
        "id": "ucBlureL9z8E",
        "outputId": "671d9841-3274-476f-d500-fc6ecbc0f84c"
      },
      "execution_count": 1,
      "outputs": [
        {
          "output_type": "execute_result",
          "data": {
            "text/plain": [
              "'10'"
            ],
            "application/vnd.google.colaboratory.intrinsic+json": {
              "type": "string"
            }
          },
          "metadata": {},
          "execution_count": 1
        }
      ]
    },
    {
      "cell_type": "code",
      "source": [
        "N = 10\n",
        "for n in range(2, N+1):\n",
        "    for a in range(2, n//2+1):\n",
        "        if n % a != 0:\n",
        "            continue\n",
        "        print(n, '=', a, '*', n//a)\n",
        "        break"
      ],
      "metadata": {
        "colab": {
          "base_uri": "https://localhost:8080/"
        },
        "id": "i7uQw31LKOwI",
        "outputId": "10aed1ba-24a5-421d-eb5f-2fdd01af511b"
      },
      "execution_count": 5,
      "outputs": [
        {
          "output_type": "stream",
          "name": "stdout",
          "text": [
            "4 = 2 * 2\n",
            "6 = 2 * 3\n",
            "6 = 3 * 2\n",
            "8 = 2 * 4\n",
            "8 = 4 * 2\n",
            "9 = 3 * 3\n",
            "10 = 2 * 5\n",
            "10 = 5 * 2\n"
          ]
        }
      ]
    }
  ]
}